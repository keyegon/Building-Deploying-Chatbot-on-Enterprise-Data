{
  "nbformat": 4,
  "nbformat_minor": 0,
  "metadata": {
    "colab": {
      "provenance": []
    },
    "kernelspec": {
      "name": "python3",
      "display_name": "Python 3"
    },
    "language_info": {
      "name": "python"
    }
  },
  "cells": [
    {
      "cell_type": "code",
      "execution_count": 1,
      "metadata": {
        "colab": {
          "base_uri": "https://localhost:8080/"
        },
        "id": "-6yZIScs3TQl",
        "outputId": "27a98036-fd73-4756-a905-e199eb85b2f6"
      },
      "outputs": [
        {
          "output_type": "stream",
          "name": "stdout",
          "text": [
            "Drive already mounted at /content/drive; to attempt to forcibly remount, call drive.mount(\"/content/drive\", force_remount=True).\n"
          ]
        }
      ],
      "source": [
        "from google.colab import drive\n",
        "drive.mount('/content/drive')"
      ]
    },
    {
      "cell_type": "code",
      "source": [
        "!pip install pypdf\n",
        "!pip install openai==0.28\n",
        "!pip install PyPDF2"
      ],
      "metadata": {
        "colab": {
          "base_uri": "https://localhost:8080/"
        },
        "id": "rB4duP-x3sLO",
        "outputId": "f2009daa-587b-4d88-b7c8-8388f4ab792d"
      },
      "execution_count": 2,
      "outputs": [
        {
          "output_type": "stream",
          "name": "stdout",
          "text": [
            "Requirement already satisfied: pypdf in /usr/local/lib/python3.10/dist-packages (4.2.0)\n",
            "Requirement already satisfied: typing_extensions>=4.0 in /usr/local/lib/python3.10/dist-packages (from pypdf) (4.11.0)\n",
            "Requirement already satisfied: openai==0.28 in /usr/local/lib/python3.10/dist-packages (0.28.0)\n",
            "Requirement already satisfied: requests>=2.20 in /usr/local/lib/python3.10/dist-packages (from openai==0.28) (2.31.0)\n",
            "Requirement already satisfied: tqdm in /usr/local/lib/python3.10/dist-packages (from openai==0.28) (4.66.4)\n",
            "Requirement already satisfied: aiohttp in /usr/local/lib/python3.10/dist-packages (from openai==0.28) (3.9.5)\n",
            "Requirement already satisfied: charset-normalizer<4,>=2 in /usr/local/lib/python3.10/dist-packages (from requests>=2.20->openai==0.28) (3.3.2)\n",
            "Requirement already satisfied: idna<4,>=2.5 in /usr/local/lib/python3.10/dist-packages (from requests>=2.20->openai==0.28) (3.7)\n",
            "Requirement already satisfied: urllib3<3,>=1.21.1 in /usr/local/lib/python3.10/dist-packages (from requests>=2.20->openai==0.28) (2.0.7)\n",
            "Requirement already satisfied: certifi>=2017.4.17 in /usr/local/lib/python3.10/dist-packages (from requests>=2.20->openai==0.28) (2024.2.2)\n",
            "Requirement already satisfied: aiosignal>=1.1.2 in /usr/local/lib/python3.10/dist-packages (from aiohttp->openai==0.28) (1.3.1)\n",
            "Requirement already satisfied: attrs>=17.3.0 in /usr/local/lib/python3.10/dist-packages (from aiohttp->openai==0.28) (23.2.0)\n",
            "Requirement already satisfied: frozenlist>=1.1.1 in /usr/local/lib/python3.10/dist-packages (from aiohttp->openai==0.28) (1.4.1)\n",
            "Requirement already satisfied: multidict<7.0,>=4.5 in /usr/local/lib/python3.10/dist-packages (from aiohttp->openai==0.28) (6.0.5)\n",
            "Requirement already satisfied: yarl<2.0,>=1.0 in /usr/local/lib/python3.10/dist-packages (from aiohttp->openai==0.28) (1.9.4)\n",
            "Requirement already satisfied: async-timeout<5.0,>=4.0 in /usr/local/lib/python3.10/dist-packages (from aiohttp->openai==0.28) (4.0.3)\n",
            "Requirement already satisfied: PyPDF2 in /usr/local/lib/python3.10/dist-packages (3.0.1)\n"
          ]
        }
      ]
    },
    {
      "cell_type": "code",
      "source": [
        "\n",
        "\n",
        "import PyPDF2\n",
        "\n",
        "# Load the PDF file\n",
        "file_path = '/content/drive/MyDrive/Data Science Projects/Building Chatbot on Your Enterprise Data/NipponIndia-Short-Term-Fund-Jan-2024.pdf'\n",
        "pdf_file = open(file_path, 'rb')\n",
        "\n",
        "# Create a PDF reader object\n",
        "pdf_reader = PyPDF2.PdfReader(pdf_file)\n",
        "\n",
        "# Extract text from each page\n",
        "pdf_text = \"\"\n",
        "for page_num in range(len(pdf_reader.pages)):\n",
        "    page = pdf_reader.pages[page_num]\n",
        "    pdf_text += page.extract_text()\n",
        "\n",
        "pdf_file.close()\n",
        "\n",
        "print(pdf_text[:1000])  # Print the first 1000 characters of the PDF text to verify\n"
      ],
      "metadata": {
        "colab": {
          "base_uri": "https://localhost:8080/"
        },
        "id": "SYeJvHNC3hc3",
        "outputId": "be7c8e7b-b679-42df-d1cc-20e55dd67d47"
      },
      "execution_count": 3,
      "outputs": [
        {
          "output_type": "stream",
          "name": "stdout",
          "text": [
            "Investment Horizon: 1 - 3 years\n",
            "Contact your Mutual Fund Distributor  |  Call 1860 266 0111#, \n",
            "91-22-6925 9696# (For investors outside India)  |\n",
            "Visit mf.nipponindiaim.com\n",
            "#Charges applicable.Nippon India \n",
            "Short Term Fund\n",
            "(An open  ended  short  term  debt  scheme  investing  in \n",
            "instruments  such  that  the Macaulay  duration  of the \n",
            "portfolio  is between  1 to 3 years . Relatively  High  interest  \n",
            "rate  risk and moderate  Credit  Risk)\n",
            "Mutual Fund investments are subject to market risks, read all scheme related documents carefully.This product is suitable for investors who are seeking*\n",
            "•Income over short term\n",
            "•Investment in debt & money market instruments with \n",
            "portfolio Macaulay Duration between 1 -3 years\n",
            "*Investors should consult their financial advisors \n",
            "if in doubt about  whether the product is suitable \n",
            "for them.Benchmark RiskometerNippon India Short Term \n",
            "FundCRISIL Short Duration Debt \n",
            "B-II Index\n",
            "Investors understand that their principal  \n",
            "will be at Moderate riskBenchmark \n"
          ]
        }
      ]
    },
    {
      "cell_type": "code",
      "source": [
        "import openai\n",
        "\n",
        "# Set up your OpenAI API key\n",
        "openai.api_key = 'xxx'\n",
        "\n",
        "# Function to get a response from the OpenAI API\n",
        "def get_openai_response(prompt):\n",
        "    response = openai.ChatCompletion.create(\n",
        "        model=\"gpt-3.5-turbo\",\n",
        "        messages=[\n",
        "            {\"role\": \"system\", \"content\": \"You are a helpful assistant.\"},\n",
        "            {\"role\": \"user\", \"content\": prompt}\n",
        "        ],\n",
        "        max_tokens=1500,\n",
        "        n=1,\n",
        "        stop=None,\n",
        "        temperature=0.7,\n",
        "    )\n",
        "    return response.choices[0].message['content'].strip()\n",
        "\n"
      ],
      "metadata": {
        "colab": {
          "base_uri": "https://localhost:8080/"
        },
        "id": "R8gDlDvYKbQ7",
        "outputId": "0eaab8f3-c053-41be-ccb6-fd43c336bd75"
      },
      "execution_count": 4,
      "outputs": [
        {
          "output_type": "stream",
          "name": "stdout",
          "text": [
            "The primary investment objective of the Nippon India Short Term Fund is to generate regular income and capital appreciation through investments predominantly in debt and money market instruments.\n"
          ]
        }
      ]
    },
    {
      "cell_type": "code",
      "source": [
        "# Example prompt\n",
        "prompt = \"Based on the Nippon India Short Term Fund document, what is the primary investment objective of the scheme?\"\n",
        "\n",
        "# Get the response\n",
        "response = get_openai_response(prompt)\n",
        "print(response)\n"
      ],
      "metadata": {
        "colab": {
          "base_uri": "https://localhost:8080/"
        },
        "id": "NL551xppMHdp",
        "outputId": "5ed8dc79-ac07-469f-d17f-938176aada87"
      },
      "execution_count": 6,
      "outputs": [
        {
          "output_type": "stream",
          "name": "stdout",
          "text": [
            "The primary investment objective of the Nippon India Short Term Fund is to generate regular income and capital appreciation through investments in debt and money market instruments with a maturity of up to 3 years.\n"
          ]
        }
      ]
    },
    {
      "cell_type": "code",
      "source": [
        "# Example prompt\n",
        "prompt = \"What is the investment horizon for the Nippon India Short Term Fund?\"\n",
        "\n",
        "# Get the response\n",
        "response = get_openai_response(prompt)\n",
        "print(response)\n"
      ],
      "metadata": {
        "colab": {
          "base_uri": "https://localhost:8080/"
        },
        "id": "6L_9owDgMLfg",
        "outputId": "75be5354-61a2-4fb0-fcd8-ce44d71a26ff"
      },
      "execution_count": 7,
      "outputs": [
        {
          "output_type": "stream",
          "name": "stdout",
          "text": [
            "The Nippon India Short Term Fund is a debt mutual fund with an investment horizon of typically 1-3 years. This fund is suitable for investors looking for relatively stable returns over a short to medium-term period. It primarily invests in a mix of short-term debt and money market instruments to provide capital preservation and income generation. Keep in mind that mutual funds are subject to market risks, so it's important to assess your own risk tolerance and investment goals before investing.\n"
          ]
        }
      ]
    },
    {
      "cell_type": "code",
      "source": [
        "# Example prompt\n",
        "prompt = \"What are the primary investment objectives of the Nippon India Short Term Fund?\"\n",
        "\n",
        "# Get the response\n",
        "response = get_openai_response(prompt)\n",
        "print(response)"
      ],
      "metadata": {
        "colab": {
          "base_uri": "https://localhost:8080/"
        },
        "id": "-NCsWke2Miq5",
        "outputId": "97908558-be61-474e-aae3-991762a8bafd"
      },
      "execution_count": 8,
      "outputs": [
        {
          "output_type": "stream",
          "name": "stdout",
          "text": [
            "The primary investment objective of the Nippon India Short Term Fund is to generate income and capital appreciation by investing in a diversified portfolio of debt and money market instruments with a maturity of up to three years. The fund aims to provide stable returns over the short to medium term while maintaining a low level of risk.\n"
          ]
        }
      ]
    },
    {
      "cell_type": "code",
      "source": [
        "# Example prompt\n",
        "prompt = \" What is the current investment strategy for the Nippon India Short Term Fund? \"\n",
        "\n",
        "# Get the response\n",
        "response = get_openai_response(prompt)\n",
        "print(response)"
      ],
      "metadata": {
        "colab": {
          "base_uri": "https://localhost:8080/"
        },
        "id": "Y_lpPPGJMi-M",
        "outputId": "7e7a3860-8523-4cff-a9b3-31ff17f86a50"
      },
      "execution_count": 9,
      "outputs": [
        {
          "output_type": "stream",
          "name": "stdout",
          "text": [
            "I'm sorry, but I am unable to provide real-time updates on specific investment strategies for mutual funds. The investment strategy for the Nippon India Short Term Fund may vary depending on market conditions, economic outlook, and the fund manager's discretion. I recommend checking the latest fund fact sheet, annual report, or contacting the fund manager directly for the most up-to-date information on the fund's investment strategy.\n"
          ]
        }
      ]
    },
    {
      "cell_type": "code",
      "source": [
        "# Example prompt\n",
        "prompt = \"Who are the fund managers for the Nippon India Short Term Fund and when was the fund's inception date?\"\n",
        "\n",
        "# Get the response\n",
        "response = get_openai_response(prompt)\n",
        "print(response)"
      ],
      "metadata": {
        "colab": {
          "base_uri": "https://localhost:8080/"
        },
        "id": "8L3XHBmkMjPT",
        "outputId": "c880342c-0784-477a-a455-f6aef3844622"
      },
      "execution_count": 10,
      "outputs": [
        {
          "output_type": "stream",
          "name": "stdout",
          "text": [
            "The fund managers for the Nippon India Short Term Fund are Amit Tripathi and Prashant Pimple. The fund's inception date is June 26, 2003.\n"
          ]
        }
      ]
    },
    {
      "cell_type": "code",
      "source": [
        "# Example prompt\n",
        "prompt = \" What are the risks associated with investing in the Nippon India Short Term Fund? \"\n",
        "\n",
        "# Get the response\n",
        "response = get_openai_response(prompt)\n",
        "print(response)"
      ],
      "metadata": {
        "colab": {
          "base_uri": "https://localhost:8080/"
        },
        "id": "36td8d2wM0I3",
        "outputId": "ff67f55c-8aa1-4c2a-eadc-0706e1fa266c"
      },
      "execution_count": 11,
      "outputs": [
        {
          "output_type": "stream",
          "name": "stdout",
          "text": [
            "Investing in the Nippon India Short Term Fund, like any other mutual fund, carries certain risks. Some of the risks associated with investing in this fund may include:\n",
            "\n",
            "1. Market risk: The value of the investments held by the fund may fluctuate due to changes in interest rates, credit quality of the underlying securities, or overall market conditions.\n",
            "\n",
            "2. Interest rate risk: Short-term bond funds like the Nippon India Short Term Fund are sensitive to changes in interest rates. When interest rates rise, bond prices fall, and vice versa.\n",
            "\n",
            "3. Credit risk: There is a risk that the issuers of the bonds held by the fund may default on their payments, leading to potential losses for investors.\n",
            "\n",
            "4. Liquidity risk: If there is insufficient liquidity in the market for the fund to sell its investments, it may face challenges in meeting redemption requests from investors.\n",
            "\n",
            "5. Inflation risk: Inflation can erode the purchasing power of the returns generated by the fund, especially if the returns do not keep pace with the rate of inflation.\n",
            "\n",
            "6. Currency risk: If the fund invests in securities denominated in foreign currencies, fluctuations in exchange rates can impact the fund's returns.\n",
            "\n",
            "It is important for investors to carefully consider these risks and consult with a financial advisor before making investment decisions.\n"
          ]
        }
      ]
    },
    {
      "cell_type": "code",
      "source": [
        "# Full function to handle user questions\n",
        "def ask_question(pdf_text, question):\n",
        "    # Create a prompt with the PDF text and the user's question\n",
        "    prompt = f\"{pdf_text}\\n\\nQuestion: {question}\\nAnswer:\"\n",
        "\n",
        "    # Get the response from the OpenAI API\n",
        "    answer = get_openai_response(prompt)\n",
        "    return answer\n",
        "\n"
      ],
      "metadata": {
        "colab": {
          "base_uri": "https://localhost:8080/"
        },
        "id": "KNgTxHRkK1kW",
        "outputId": "c315e10f-0c91-4d97-80b5-8094cb34177b"
      },
      "execution_count": 5,
      "outputs": [
        {
          "output_type": "stream",
          "name": "stdout",
          "text": [
            "Question: What is the investment strategy of the Nippon India Short Term Fund?\n",
            "Answer: The investment strategy of the Nippon India Short Term Fund includes the following key points:\n",
            "\n",
            "1. The fund predominantly invests in corporate bonds, Government Securities (G-Secs), and money market instruments within the 1 to 5 years duration bucket.\n",
            "2. The strategy aims to enhance returns through asset allocation and shaping of the yield curve.\n",
            "3. The fund maintains a better credit quality with 75-85% in AAA rated assets, with 70-100% in assets up to 3 years and 0-30% in assets between 3 to 5 years.\n",
            "4. There is a tactical allocation of 15-20% to G-Secs/State Development Loans (SDLs) based on absolute yield and spread views.\n",
            "5. The fund follows a moderate duration strategy, typically maintaining a duration in the range of 1.25 years to 2.75 years.\n",
            "\n",
            "Please note that the current investment strategy may be subject to change based on prevailing market conditions and the fund manager's views.\n"
          ]
        }
      ]
    },
    {
      "cell_type": "code",
      "source": [
        "# Example usage\n",
        "question = \"What is the investment strategy of the Nippon India Short Term Fund?\"\n",
        "answer = ask_question(pdf_text, question)\n",
        "print(f\"Question: {question}\\nAnswer: {answer}\")\n"
      ],
      "metadata": {
        "colab": {
          "base_uri": "https://localhost:8080/"
        },
        "id": "U_w2vL3DNMpX",
        "outputId": "3eedc259-47d3-4e03-9c8c-c614011bb6a0"
      },
      "execution_count": 12,
      "outputs": [
        {
          "output_type": "stream",
          "name": "stdout",
          "text": [
            "Question: What is the investment strategy of the Nippon India Short Term Fund?\n",
            "Answer: The investment strategy of the Nippon India Short Term Fund includes the following key points:\n",
            "\n",
            "1. The fund primarily invests in corporate bonds, G-Secs, and money market instruments within the 1-5 years duration bucket.\n",
            "   \n",
            "2. The strategy aims to enhance returns through asset allocation and the shape of the yield curve.\n",
            "   \n",
            "3. The fund maintains a better credit quality of assets, with a significant percentage (75-85%) in AAA-rated assets. It also allocates 70-100% in assets up to 3 years and 0-30% in assets between 3 to 5 years.\n",
            "   \n",
            "4. There is a tactical allocation (15-20%) to G-Secs/SDLs based on absolute yield and spread views.\n",
            "   \n",
            "5. The fund follows a moderate duration strategy, maintaining the duration in the range of 1.25 years to 2.75 years.\n",
            "\n",
            "Overall, the investment strategy aims to generate stable returns for investors with a short-term horizon by investing in debt and money market instruments while managing interest rate and credit risks effectively.\n"
          ]
        }
      ]
    },
    {
      "cell_type": "code",
      "source": [
        "# Example usage\n",
        "question = \"What types of assets does the Nippon India Short Term Fund predominantly invest in?\"\n",
        "answer = ask_question(pdf_text, question)\n",
        "print(f\"Question: {question}\\nAnswer: {answer}\")"
      ],
      "metadata": {
        "id": "Koo7hFRfNnGY"
      },
      "execution_count": null,
      "outputs": []
    },
    {
      "cell_type": "code",
      "source": [
        "# Example usage\n",
        "question = \"What is the benchmark for the Nippon India Short Term Fund? \"\n",
        "answer = ask_question(pdf_text, question)\n",
        "print(f\"Question: {question}\\nAnswer: {answer}\")"
      ],
      "metadata": {
        "colab": {
          "base_uri": "https://localhost:8080/"
        },
        "id": "vBOGo0NnNnK2",
        "outputId": "1161bf1a-7db8-4410-d3a9-ea823ea20bb1"
      },
      "execution_count": 14,
      "outputs": [
        {
          "output_type": "stream",
          "name": "stdout",
          "text": [
            "Question: What is the benchmark for the Nippon India Short Term Fund? \n",
            "Answer: The benchmark for the Nippon India Short Term Fund is the CRISIL Short Duration Debt B-II Index.\n"
          ]
        }
      ]
    },
    {
      "cell_type": "code",
      "source": [
        "# Example usage\n",
        "question = \" What is the minimum application amount for investing in the Nippon India Short Term Fund? \"\n",
        "answer = ask_question(pdf_text, question)\n",
        "print(f\"Question: {question}\\nAnswer: {answer}\")"
      ],
      "metadata": {
        "colab": {
          "base_uri": "https://localhost:8080/"
        },
        "id": "hjebXRzWNnQQ",
        "outputId": "7ab6d15f-4b3e-4a03-e4a4-4a4fdd279b25"
      },
      "execution_count": 15,
      "outputs": [
        {
          "output_type": "stream",
          "name": "stdout",
          "text": [
            "Question:  What is the minimum application amount for investing in the Nippon India Short Term Fund? \n",
            "Answer: The minimum application amount for investing in the Nippon India Short Term Fund is Rs. 5,000 and, in multiples of Re.1 thereafter.\n"
          ]
        }
      ]
    },
    {
      "cell_type": "code",
      "source": [
        "# Example usage\n",
        "question = \"What are the plans and options available under the Nippon India Short Term Fund?\"\n",
        "answer = ask_question(pdf_text, question)\n",
        "print(f\"Question: {question}\\nAnswer: {answer}\")"
      ],
      "metadata": {
        "colab": {
          "base_uri": "https://localhost:8080/"
        },
        "id": "oZ6GGr1PNnko",
        "outputId": "0b791c37-4425-4f9c-afa3-6b43800b26ca"
      },
      "execution_count": 16,
      "outputs": [
        {
          "output_type": "stream",
          "name": "stdout",
          "text": [
            "Question: What are the plans and options available under the Nippon India Short Term Fund?\n",
            "Answer: The plans and options available under the Nippon India Short Term Fund are as follows:\n",
            "\n",
            "1. Growth Plan/Direct Plan - Growth Plan: Growth Option\n",
            "2. IDCW Plan/Direct Plan - IDCW Plan: IDCW Option\n",
            "3. IDCW Plan/Direct Plan - IDCW Plan with the frequency of Monthly, Quarterly\n",
            "\n",
            "Both the IDCW plans/Direct Plan - IDCW Plan offer Payout of IDCW and Reinvestment of IDCW facility. \n",
            "\n",
            "There is no exit load mentioned for this fund.\n"
          ]
        }
      ]
    },
    {
      "cell_type": "code",
      "source": [
        "# Example usage\n",
        "question = \" What is the weighted average yield to maturity (YTM) and modified duration of the Nippon India Short Term Fund as of January 31, 2024?\"\n",
        "answer = ask_question(pdf_text, question)\n",
        "print(f\"Question: {question}\\nAnswer: {answer}\")"
      ],
      "metadata": {
        "colab": {
          "base_uri": "https://localhost:8080/"
        },
        "id": "iZiGCGB5N21I",
        "outputId": "40f38763-ef0a-4601-c9ac-54580ee8f5f1"
      },
      "execution_count": 17,
      "outputs": [
        {
          "output_type": "stream",
          "name": "stdout",
          "text": [
            "Question:  What is the weighted average yield to maturity (YTM) and modified duration of the Nippon India Short Term Fund as of January 31, 2024?\n",
            "Answer: The weighted average yield to maturity (YTM) of the Nippon India Short Term Fund as of January 31, 2024, is 7.85%.\n",
            "\n",
            "The modified duration of the fund as of the same date is 2.69 years.\n"
          ]
        }
      ]
    },
    {
      "cell_type": "code",
      "source": [
        "# Example usage\n",
        "question = \" What is the exit load policy for the Nippon India Short Term Fund? \"\n",
        "answer = ask_question(pdf_text, question)\n",
        "print(f\"Question: {question}\\nAnswer: {answer}\")"
      ],
      "metadata": {
        "colab": {
          "base_uri": "https://localhost:8080/"
        },
        "id": "LsXGW8CcOTId",
        "outputId": "81eb7b0b-859b-4fda-c0fb-591f7a244a96"
      },
      "execution_count": 18,
      "outputs": [
        {
          "output_type": "stream",
          "name": "stdout",
          "text": [
            "Question:  What is the exit load policy for the Nippon India Short Term Fund? \n",
            "Answer: The exit load policy for the Nippon India Short Term Fund is Nil. This means that there is no exit load charged if you decide to redeem your investment from the fund.\n"
          ]
        }
      ]
    },
    {
      "cell_type": "code",
      "source": [
        "# Example usage\n",
        "question = \" What is the most important  points i need to have in mind based on this pdf \"\n",
        "answer = ask_question(pdf_text, question)\n",
        "print(f\"Question: {question}\\nAnswer: {answer}\")"
      ],
      "metadata": {
        "colab": {
          "base_uri": "https://localhost:8080/"
        },
        "id": "9qyxb6EdOfWA",
        "outputId": "3f1789c2-8c57-4cb9-db8b-8ba768d99df3"
      },
      "execution_count": 19,
      "outputs": [
        {
          "output_type": "stream",
          "name": "stdout",
          "text": [
            "Question:  What is the most important  points i need to have in mind based on this pdf \n",
            "Answer: Based on the information provided in the PDF about Nippon India Short Term Fund, here are some key points to keep in mind:\n",
            "\n",
            "1. **Investment Objective**: The fund aims to generate stable returns for investors with a short-term investment horizon by investing in debt and money market instruments.\n",
            "\n",
            "2. **Investment Strategy**: The fund predominantly invests in corporate bonds, G-Secs, and money market instruments within a 1-5 year duration bucket. It focuses on enhancing returns through asset allocation and maintaining a moderate duration strategy.\n",
            "\n",
            "3. **Risk Profile**: The fund carries relatively high interest rate risk and moderate credit risk, making it suitable for investors with a moderate appetite for volatility.\n",
            "\n",
            "4. **Asset Allocation**: The fund primarily invests in high-rated AAA and equivalent securities, with a weighted average maturity of 3.47 years and a weighted average YTM of 7.85%.\n",
            "\n",
            "5. **Minimum Application Amount**: The minimum application amount for investing in the fund is Rs. 5,000, and subsequent investments can be made in multiples of Re. 1 thereafter.\n",
            "\n",
            "6. **Fund Managers**: The fund is managed by Sushil Budhia and Vivek Sharma.\n",
            "\n",
            "7. **Who Should Invest**: The fund is suitable for investors seeking accrual return with the potential for moderate capital gains, protection in rising yield scenarios, and investors with an investment horizon of around 1-3 years.\n",
            "\n",
            "8. **Benchmark**: The fund is benchmarked against the CRISIL Short Duration Debt B-II Index.\n",
            "\n",
            "9. **Contact Information**: For more details or to invest, you can contact your Mutual Fund Distributor, visit the Nippon India website, or call the provided phone numbers.\n",
            "\n",
            "Remember to carefully read all scheme-related documents, consider your financial goals and risk tolerance, and consult with your financial advisor before making any investment decisions.\n"
          ]
        }
      ]
    }
  ]
}